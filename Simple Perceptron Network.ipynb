{
 "cells": [
  {
   "cell_type": "code",
   "execution_count": 1,
   "metadata": {},
   "outputs": [],
   "source": [
    "# https://www.codementor.io/mcorr/an-introduction-to-python-machine-learning-with-perceptrons-k7pn85vfi\n",
    "# https://www.python-course.eu/neural_networks.php\n",
    "import random"
   ]
  },
  {
   "cell_type": "code",
   "execution_count": 2,
   "metadata": {},
   "outputs": [],
   "source": [
    "# Hyperparameters\n",
    "learning_rate = 0.01"
   ]
  },
  {
   "cell_type": "code",
   "execution_count": 162,
   "metadata": {},
   "outputs": [],
   "source": [
    "class Perceptron:\n",
    "    \n",
    "    def __init__(self, num_inputs):        \n",
    "        self.weights = []\n",
    "        for x in range(0, num_inputs):\n",
    "            self.weights.append(random.random() * 2 - 1)\n",
    "            \n",
    "    def print_weights(self):\n",
    "        print(self.weights)\n",
    "        return self.weights\n",
    "        \n",
    "    def feed_forward(self, inputs):\n",
    "        self.inputs = inputs\n",
    "        sum = 0\n",
    "        \n",
    "        # multiply inputs by weights and sum them\n",
    "        for i in range(0, len(self.weights)):\n",
    "            sum += self.weights[i] * inputs[i]\n",
    "            \n",
    "        # 'activate' the sum\n",
    "        self.output = self.activate(sum)\n",
    "        return self.output\n",
    "    \n",
    "    # turn a sum over 0 into 1, and below 0 into -1\n",
    "    def activate(self, value):\n",
    "        if value > 0:\n",
    "            return 1\n",
    "        return -1\n",
    "    \n",
    "    def backward_pass(self, desired_output):\n",
    "        error = desired_output - self.output\n",
    "\n",
    "        backward_error = []\n",
    "        for i in range(0, len(self.weights)):\n",
    "            backward_error.append(error * self.weights[i])\n",
    "            self.weights[i] += error * self.inputs[i] * learning_rate\n",
    "        return backward_error"
   ]
  },
  {
   "cell_type": "code",
   "execution_count": 36,
   "metadata": {},
   "outputs": [],
   "source": [
    "def line(x):\n",
    "    return 0.5 * x + 100"
   ]
  },
  {
   "cell_type": "code",
   "execution_count": 112,
   "metadata": {},
   "outputs": [
    {
     "name": "stdout",
     "output_type": "stream",
     "text": [
      "[-0.13107079295158353, -0.9999453148965955, 0.10936487311387011]\n"
     ]
    },
    {
     "data": {
      "text/plain": [
       "-1.021651234734309"
      ]
     },
     "execution_count": 112,
     "metadata": {},
     "output_type": "execute_result"
    }
   ],
   "source": [
    "p = Perceptron(3)\n",
    "weights = p.print_weights()\n",
    "sum(weights)"
   ]
  },
  {
   "cell_type": "code",
   "execution_count": 38,
   "metadata": {},
   "outputs": [
    {
     "name": "stdout",
     "output_type": "stream",
     "text": [
      "258.00413996978955 140.49634173047684\n",
      "258.00413996978955 229.00206998489477\n",
      "-1\n"
     ]
    }
   ],
   "source": [
    "x_coord = random.random() * 1000 - 500\n",
    "y_coord = random.random() * 1000 - 500\n",
    "line_y = line(x_coord)\n",
    "\n",
    "print(x_coord, y_coord)\n",
    "print(x_coord, line_y)\n",
    "\n",
    "if y_coord > line_y:\n",
    "    answer = 1\n",
    "else:\n",
    "    answer = -1\n",
    "print(answer)"
   ]
  },
  {
   "cell_type": "code",
   "execution_count": 41,
   "metadata": {},
   "outputs": [
    {
     "name": "stdout",
     "output_type": "stream",
     "text": [
      "[-7.559957311912912, -10.227329150690677, 0.13052190549312728]\n"
     ]
    },
    {
     "data": {
      "text/plain": [
       "[-7.559957311912912, -10.227329150690677, 0.13052190549312728]"
      ]
     },
     "execution_count": 41,
     "metadata": {},
     "output_type": "execute_result"
    }
   ],
   "source": [
    "p.feed_forward([x_coord, y_coord, 1])\n",
    "p.backward_pass(answer)\n",
    "p.print_weights()"
   ]
  },
  {
   "cell_type": "code",
   "execution_count": 113,
   "metadata": {},
   "outputs": [],
   "source": [
    "for _ in range(0, 1000000):\n",
    "    x_coord = random.random() * 1000 - 500\n",
    "    y_coord = random.random() * 1000 - 500\n",
    "    line_y = line(x_coord)\n",
    "    \n",
    "    if y_coord > line_y:\n",
    "        answer = 1\n",
    "    else:\n",
    "        answer = -1\n",
    "    \n",
    "    p.feed_forward([x_coord, y_coord, 1])\n",
    "    p.backward_pass(answer)"
   ]
  },
  {
   "cell_type": "code",
   "execution_count": 43,
   "metadata": {},
   "outputs": [
    {
     "name": "stdout",
     "output_type": "stream",
     "text": [
      "[-6.5929506369770765, 18.675132614677537, -1096.9294780937994]\n"
     ]
    },
    {
     "data": {
      "text/plain": [
       "[-6.5929506369770765, 18.675132614677537, -1096.9294780937994]"
      ]
     },
     "execution_count": 43,
     "metadata": {},
     "output_type": "execute_result"
    }
   ],
   "source": [
    "p.print_weights()"
   ]
  },
  {
   "cell_type": "code",
   "execution_count": 114,
   "metadata": {},
   "outputs": [
    {
     "name": "stdout",
     "output_type": "stream",
     "text": [
      "952\n"
     ]
    }
   ],
   "source": [
    "correct = 0\n",
    "\n",
    "for _ in range(0,1000):\n",
    "    x_coord = random.random() * 1000 - 500\n",
    "    y_coord = random.random() * 1000 - 500\n",
    "    line_y = line(x_coord)\n",
    "    \n",
    "    above = y_coord > line_y\n",
    "    guess_above = p.feed_forward([x_coord, y_coord, 1])\n",
    "    \n",
    "#     print(above, guess_above)\n",
    "    \n",
    "    if (above == True and guess_above == 1):\n",
    "        correct += 1\n",
    "    if (above == False and guess_above == -1):\n",
    "        correct += 1\n",
    "\n",
    "print(correct)"
   ]
  },
  {
   "cell_type": "markdown",
   "metadata": {},
   "source": [
    "**Perceptrons for Logic**\n",
    "\n",
    "Implement logicial AND and OR"
   ]
  },
  {
   "cell_type": "code",
   "execution_count": 152,
   "metadata": {},
   "outputs": [],
   "source": [
    "a = Perceptron(3)"
   ]
  },
  {
   "cell_type": "code",
   "execution_count": 153,
   "metadata": {},
   "outputs": [
    {
     "name": "stdout",
     "output_type": "stream",
     "text": [
      "[0.34398660620889365, 0.5647128914370414, -0.12032272479411432]\n"
     ]
    },
    {
     "data": {
      "text/plain": [
       "[0.34398660620889365, 0.5647128914370414, -0.12032272479411432]"
      ]
     },
     "execution_count": 153,
     "metadata": {},
     "output_type": "execute_result"
    }
   ],
   "source": [
    "for _ in range(0,1000000):\n",
    "    first = random.choice([0, 1])\n",
    "    second = random.choice([0, 1])\n",
    "#     print(first, second, first and second)\n",
    "    a.feed_forward([first, second, 1])\n",
    "    if (first or second):\n",
    "        answer = 1\n",
    "    else:\n",
    "        answer = -1\n",
    "    a.backward_pass(answer)\n",
    "    \n",
    "a.print_weights()"
   ]
  },
  {
   "cell_type": "code",
   "execution_count": 154,
   "metadata": {
    "scrolled": true
   },
   "outputs": [
    {
     "name": "stdout",
     "output_type": "stream",
     "text": [
      "1\n",
      "1\n",
      "1\n",
      "-1\n"
     ]
    }
   ],
   "source": [
    "print(a.feed_forward([1, 1, 1]))\n",
    "print(a.feed_forward([1, 0, 1]))\n",
    "print(a.feed_forward([0, 1, 1]))\n",
    "print(a.feed_forward([0, 0, 1]))"
   ]
  },
  {
   "cell_type": "markdown",
   "metadata": {},
   "source": [
    "**XOR Network**"
   ]
  },
  {
   "cell_type": "code",
   "execution_count": 156,
   "metadata": {},
   "outputs": [],
   "source": [
    "a = Perceptron(3)\n",
    "b = Perceptron(3)\n",
    "c = Perceptron(3)"
   ]
  },
  {
   "cell_type": "code",
   "execution_count": 157,
   "metadata": {},
   "outputs": [],
   "source": [
    "def network(first, second):\n",
    "    a_out = a.feed_forward([first, second, 1])\n",
    "    b_out = b.feed_forward([first, second, 1])\n",
    "    c_out = c.feed_forward([a_out, b_out, 1])\n",
    "    return c_out"
   ]
  },
  {
   "cell_type": "code",
   "execution_count": 158,
   "metadata": {},
   "outputs": [],
   "source": [
    "for _ in range(0,1000000):\n",
    "    first = random.choice([0, 1])\n",
    "    second = random.choice([0, 1])\n",
    "    \n",
    "    a_out = a.feed_forward([first, second, 1])\n",
    "    b_out = b.feed_forward([first, second, 1])\n",
    "    c_out = c.feed_forward([a_out, b_out, 1])\n",
    "    \n",
    "    if (first and second):\n",
    "        answer = 1\n",
    "    else:\n",
    "        answer = -1\n",
    "        \n",
    "    backwards_error = c.backward_pass(answer)\n",
    "    a.backward_pass(backwards_error[0])\n",
    "    b.backward_pass(backwards_error[1])"
   ]
  },
  {
   "cell_type": "code",
   "execution_count": 159,
   "metadata": {},
   "outputs": [
    {
     "name": "stdout",
     "output_type": "stream",
     "text": [
      "[-0.009000751758395126, 0.003864641512377592, -0.024680613401155023]\n",
      "[-0.0074940267569443275, 0.03387332482226753, -0.036496385350704666]\n",
      "[0.010628371300160842, 0.011965118365441372, -0.03362743772212852]\n"
     ]
    },
    {
     "data": {
      "text/plain": [
       "[0.010628371300160842, 0.011965118365441372, -0.03362743772212852]"
      ]
     },
     "execution_count": 159,
     "metadata": {},
     "output_type": "execute_result"
    }
   ],
   "source": [
    "a.print_weights()\n",
    "b.print_weights()\n",
    "c.print_weights()"
   ]
  },
  {
   "cell_type": "code",
   "execution_count": 160,
   "metadata": {},
   "outputs": [
    {
     "name": "stdout",
     "output_type": "stream",
     "text": [
      "-1\n",
      "-1\n",
      "-1\n",
      "-1\n",
      "-1\n",
      "-1\n",
      "-1\n",
      "-1\n",
      "-1\n",
      "-1\n",
      "-1\n",
      "-1\n"
     ]
    }
   ],
   "source": [
    "print(a.feed_forward([1, 1, 1]))\n",
    "print(a.feed_forward([0, 0, 1]))\n",
    "print(a.feed_forward([1, 0, 1]))\n",
    "print(a.feed_forward([0, 1, 1]))\n",
    "print(b.feed_forward([1, 1, 1]))\n",
    "print(b.feed_forward([0, 0, 1]))\n",
    "print(b.feed_forward([1, 0, 1]))\n",
    "print(b.feed_forward([0, 1, 1]))\n",
    "print(c.feed_forward([1, 1, 1]))\n",
    "print(c.feed_forward([0, 0, 1]))\n",
    "print(c.feed_forward([1, 0, 1]))\n",
    "print(c.feed_forward([0, 1, 1]))"
   ]
  },
  {
   "cell_type": "code",
   "execution_count": 161,
   "metadata": {},
   "outputs": [
    {
     "name": "stdout",
     "output_type": "stream",
     "text": [
      "-1\n",
      "-1\n",
      "-1\n",
      "-1\n"
     ]
    }
   ],
   "source": [
    "print(network(1, 1))\n",
    "print(network(1, 0))\n",
    "print(network(0, 1))\n",
    "print(network(0, 0))"
   ]
  }
 ],
 "metadata": {
  "kernelspec": {
   "display_name": "Python 3",
   "language": "python",
   "name": "python3"
  },
  "language_info": {
   "codemirror_mode": {
    "name": "ipython",
    "version": 3
   },
   "file_extension": ".py",
   "mimetype": "text/x-python",
   "name": "python",
   "nbconvert_exporter": "python",
   "pygments_lexer": "ipython3",
   "version": "3.6.4"
  }
 },
 "nbformat": 4,
 "nbformat_minor": 2
}
