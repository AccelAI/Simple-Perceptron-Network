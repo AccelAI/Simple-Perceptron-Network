{
 "cells": [
  {
   "cell_type": "code",
   "execution_count": 34,
   "metadata": {},
   "outputs": [],
   "source": [
    "import random"
   ]
  },
  {
   "cell_type": "code",
   "execution_count": 95,
   "metadata": {},
   "outputs": [],
   "source": [
    "# Hyperparameters\n",
    "learning_rate = 0.01"
   ]
  },
  {
   "cell_type": "code",
   "execution_count": 171,
   "metadata": {},
   "outputs": [],
   "source": [
    "class Perceptron:\n",
    "    \n",
    "    def __init__(self, num_inputs):        \n",
    "        self.weights = []\n",
    "        for x in range(0, num_inputs):\n",
    "            self.weights.append(random.random()*2-1)\n",
    "            \n",
    "    def print_weights(self):\n",
    "        print(self.weights)\n",
    "        return self.weights\n",
    "        \n",
    "    def feed_forward(self, inputs):\n",
    "        sum = 0\n",
    "        # multiply inputs by weights and sum them\n",
    "        for x in range(0, len(self.weights)):\n",
    "            sum += self.weights[x] * inputs[x]\n",
    "        # return the 'activated' sum\n",
    "        return self.activate(sum)\n",
    "    \n",
    "    def activate(self, num): # turn a sum over 0 into 1, and below 0 into -1\n",
    "        if num > 0:\n",
    "            return 1\n",
    "        return -1\n",
    "    \n",
    "    def train(self, inputs, desired_output):\n",
    "        guess = self.feed_forward(inputs)\n",
    "        error = desired_output - guess\n",
    "\n",
    "        for x in range(0, len(self.weights)):\n",
    "            self.weights[x] += error * inputs[x] * learning_rate"
   ]
  },
  {
   "cell_type": "code",
   "execution_count": 191,
   "metadata": {},
   "outputs": [],
   "source": [
    "def line(x):\n",
    "    return 0.5 * x + 10"
   ]
  },
  {
   "cell_type": "code",
   "execution_count": 304,
   "metadata": {},
   "outputs": [
    {
     "name": "stdout",
     "output_type": "stream",
     "text": [
      "[0.9470573852514428, -0.44583816685126365, -0.22144507561249704]\n"
     ]
    },
    {
     "data": {
      "text/plain": [
       "0.2797741427876821"
      ]
     },
     "execution_count": 304,
     "metadata": {},
     "output_type": "execute_result"
    }
   ],
   "source": [
    "p = Perceptron(3)\n",
    "weights = p.print_weights()\n",
    "sum(weights)"
   ]
  },
  {
   "cell_type": "code",
   "execution_count": 271,
   "metadata": {},
   "outputs": [
    {
     "name": "stdout",
     "output_type": "stream",
     "text": [
      "-74.98943136490709 -32.49809910754465\n",
      "-74.98943136490709 -27.494715682453545\n",
      "-1\n"
     ]
    }
   ],
   "source": [
    "x_coord = random.random() * 500 - 250\n",
    "y_coord = random.random() * 500 - 250\n",
    "line_y = line(x_coord)\n",
    "\n",
    "print(x_coord, y_coord)\n",
    "print(x_coord, line_y)\n",
    "\n",
    "if y_coord > line_y:\n",
    "    answer = 1\n",
    "else:\n",
    "    answer = -1\n",
    "print(answer)"
   ]
  },
  {
   "cell_type": "code",
   "execution_count": 272,
   "metadata": {},
   "outputs": [
    {
     "name": "stdout",
     "output_type": "stream",
     "text": [
      "[-2.3065302649098607, 6.628203641081267, -0.7994708035193439]\n"
     ]
    },
    {
     "data": {
      "text/plain": [
       "[-2.3065302649098607, 6.628203641081267, -0.7994708035193439]"
      ]
     },
     "execution_count": 272,
     "metadata": {},
     "output_type": "execute_result"
    }
   ],
   "source": [
    "p.train([x_coord, y_coord, 1], answer)\n",
    "p.print_weights()"
   ]
  },
  {
   "cell_type": "code",
   "execution_count": 345,
   "metadata": {},
   "outputs": [],
   "source": [
    "for _ in range(0, 1000000):\n",
    "    x_coord = random.random() * 500 - 250\n",
    "    y_coord = random.random() * 500 - 250\n",
    "    line_y = line(x_coord)\n",
    "    \n",
    "    if y_coord > line_y:\n",
    "        answer = 1\n",
    "    else:\n",
    "        answer = -1\n",
    "    \n",
    "    p.train([x_coord, y_coord, 1], answer)"
   ]
  },
  {
   "cell_type": "code",
   "execution_count": 346,
   "metadata": {},
   "outputs": [
    {
     "name": "stdout",
     "output_type": "stream",
     "text": [
      "[-28.713204473375256, 57.026899839123516, -515.6814450754335]\n"
     ]
    },
    {
     "data": {
      "text/plain": [
       "[-28.713204473375256, 57.026899839123516, -515.6814450754335]"
      ]
     },
     "execution_count": 346,
     "metadata": {},
     "output_type": "execute_result"
    }
   ],
   "source": [
    "p.print_weights()"
   ]
  },
  {
   "cell_type": "code",
   "execution_count": 355,
   "metadata": {},
   "outputs": [
    {
     "name": "stdout",
     "output_type": "stream",
     "text": [
      "999\n"
     ]
    }
   ],
   "source": [
    "correct = 0\n",
    "\n",
    "for _ in range(0,1000):\n",
    "    x_coord = random.random() * 500 - 250\n",
    "    y_coord = random.random() * 500 - 250\n",
    "    line_y = line(x_coord)\n",
    "    \n",
    "    above = y_coord > line_y\n",
    "    guess_above = p.feed_forward([x_coord, y_coord, 1])\n",
    "    \n",
    "#     print(above, guess_above)\n",
    "    \n",
    "    if (above == True and guess_above == 1):\n",
    "        correct += 1\n",
    "    if (above == False and guess_above == -1):\n",
    "        correct += 1\n",
    "\n",
    "print(correct)"
   ]
  },
  {
   "cell_type": "code",
   "execution_count": null,
   "metadata": {},
   "outputs": [],
   "source": []
  }
 ],
 "metadata": {
  "kernelspec": {
   "display_name": "Python 3",
   "language": "python",
   "name": "python3"
  },
  "language_info": {
   "codemirror_mode": {
    "name": "ipython",
    "version": 3
   },
   "file_extension": ".py",
   "mimetype": "text/x-python",
   "name": "python",
   "nbconvert_exporter": "python",
   "pygments_lexer": "ipython3",
   "version": "3.6.4"
  }
 },
 "nbformat": 4,
 "nbformat_minor": 2
}
