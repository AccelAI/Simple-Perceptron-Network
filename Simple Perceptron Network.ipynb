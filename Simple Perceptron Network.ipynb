{
 "cells": [
  {
   "cell_type": "code",
   "execution_count": 3,
   "metadata": {},
   "outputs": [],
   "source": [
    "import random\n",
    "import numpy as np"
   ]
  },
  {
   "cell_type": "code",
   "execution_count": 4,
   "metadata": {},
   "outputs": [],
   "source": [
    "# Hyperparameters\n",
    "learning_rate = 0.01"
   ]
  },
  {
   "cell_type": "markdown",
   "metadata": {},
   "source": [
    "**Perceptron Class**\n",
    "\n",
    "Here we create a class for the Perceptron that we may use to instatiate any number of Perceptron instances."
   ]
  },
  {
   "cell_type": "code",
   "execution_count": 69,
   "metadata": {},
   "outputs": [],
   "source": [
    "class Perceptron:\n",
    "    \n",
    "    def __init__(self, num_inputs, act='sigmoid'):\n",
    "        self.weights = []\n",
    "        self.num_inputs = num_inputs\n",
    "        self.act = act # define activation function with sigmoid being the default\n",
    "        for x in range(0, num_inputs):\n",
    "            self.weights.append(random.random() * 2 - 1)\n",
    "        print(self.weights)\n",
    "            \n",
    "    def get_weights(self):\n",
    "        return self.weights\n",
    "        \n",
    "    def feed_forward(self, inputs):\n",
    "        self.inputs = inputs\n",
    "        sum = 0\n",
    "        \n",
    "        # multiply inputs by weights and sum them\n",
    "        for i in range(0, self.num_inputs):\n",
    "            sum += self.weights[i] * inputs[i]\n",
    "            \n",
    "        # 'activate' the sum and get the derivative\n",
    "        self.output, self.output_prime = self.activate(sum)\n",
    "        return self.output\n",
    "    \n",
    "    def activate(self, x):\n",
    "        if (self.act == 'sigmoid'):\n",
    "            activation = self.sigmoid(x)\n",
    "            activation_prime = activation * (1 - activation)\n",
    "        else:\n",
    "            activation = self.step(x)\n",
    "            activation_prime = 1 # use 1 since step activation is not differentiable\n",
    "        return activation, activation_prime\n",
    "    \n",
    "    def sigmoid(self, x):\n",
    "        return 1/(1 + np.exp(-x))\n",
    "    \n",
    "    def step(self, x):\n",
    "        if x > 0:\n",
    "            return 1\n",
    "        return 0\n",
    "    \n",
    "    def backward_pass(self, error):\n",
    "        back_error = [] # each element in list represent amount of error to send backward along that connection\n",
    "        for i in range(0, self.num_inputs):\n",
    "            back_error.append(error * self.output_prime * self.weights[i])\n",
    "            self.weights[i] -= error * self.output_prime * self.inputs[i] * learning_rate\n",
    "        return back_error"
   ]
  },
  {
   "cell_type": "markdown",
   "metadata": {},
   "source": [
    "**Single Perceptron to classify a point as being above or below a line**\n",
    "\n",
    "Begin with a line going through the origin."
   ]
  },
  {
   "cell_type": "code",
   "execution_count": 77,
   "metadata": {},
   "outputs": [],
   "source": [
    "def line(x):\n",
    "    return 0.5 * x"
   ]
  },
  {
   "cell_type": "code",
   "execution_count": 78,
   "metadata": {},
   "outputs": [
    {
     "name": "stdout",
     "output_type": "stream",
     "text": [
      "[0.33434001968876803, 0.16310034358009995]\n"
     ]
    },
    {
     "data": {
      "text/plain": [
       "0.497440363268868"
      ]
     },
     "execution_count": 78,
     "metadata": {},
     "output_type": "execute_result"
    }
   ],
   "source": [
    "p = Perceptron(2)\n",
    "weights = p.get_weights()\n",
    "sum(weights)"
   ]
  },
  {
   "cell_type": "code",
   "execution_count": 79,
   "metadata": {},
   "outputs": [
    {
     "name": "stdout",
     "output_type": "stream",
     "text": [
      "901.9672274233975 255.103627952859\n",
      "901.9672274233975 450.98361371169875\n",
      "0\n"
     ]
    }
   ],
   "source": [
    "# pick 1 random point and determine if it's above or below the line\n",
    "x_coord = random.random() * 1000\n",
    "y_coord = random.random() * 1000\n",
    "line_y = line(x_coord)\n",
    "\n",
    "print(x_coord, y_coord)\n",
    "print(x_coord, line_y)\n",
    "\n",
    "if y_coord > line_y:\n",
    "    answer = 1\n",
    "else:\n",
    "    answer = 0\n",
    "    \n",
    "print(answer)"
   ]
  },
  {
   "cell_type": "code",
   "execution_count": 80,
   "metadata": {},
   "outputs": [
    {
     "name": "stdout",
     "output_type": "stream",
     "text": [
      "[-8.685332254545209, -2.38793593594849]\n"
     ]
    },
    {
     "data": {
      "text/plain": [
       "[-8.685332254545209, -2.38793593594849]"
      ]
     },
     "execution_count": 80,
     "metadata": {},
     "output_type": "execute_result"
    }
   ],
   "source": [
    "# pass the random point into the node, feed it back and see if the weights change\n",
    "guess = p.feed_forward([x_coord, y_coord])\n",
    "p.backward_pass(guess - answer)\n",
    "p.get_weights()"
   ]
  },
  {
   "cell_type": "code",
   "execution_count": 81,
   "metadata": {},
   "outputs": [
    {
     "name": "stdout",
     "output_type": "stream",
     "text": [
      "[-136.2615564737694, 273.7106305630853]\n"
     ]
    },
    {
     "data": {
      "text/plain": [
       "[-136.2615564737694, 273.7106305630853]"
      ]
     },
     "execution_count": 81,
     "metadata": {},
     "output_type": "execute_result"
    }
   ],
   "source": [
    "# train the network\n",
    "for _ in range(0, 1000000):\n",
    "    x_coord = random.random() * 1000\n",
    "    y_coord = random.random() * 1000\n",
    "    line_y = line(x_coord)\n",
    "    \n",
    "    if y_coord > line_y:\n",
    "        answer = 1\n",
    "    else:\n",
    "        answer = 0\n",
    "    \n",
    "    guess = p.feed_forward([x_coord, y_coord])\n",
    "    p.backward_pass(guess - answer)\n",
    "    \n",
    "p.get_weights()"
   ]
  },
  {
   "cell_type": "code",
   "execution_count": 82,
   "metadata": {},
   "outputs": [
    {
     "name": "stdout",
     "output_type": "stream",
     "text": [
      "1000\n"
     ]
    }
   ],
   "source": [
    "# check the accuracy\n",
    "correct = 0\n",
    "\n",
    "for _ in range(0,1000):\n",
    "    x_coord = random.random() * 1000\n",
    "    y_coord = random.random() * 1000\n",
    "    line_y = line(x_coord)\n",
    "    \n",
    "    above = y_coord > line_y\n",
    "    guess_above = p.feed_forward([x_coord, y_coord, 1])\n",
    "    \n",
    "    if (above == True and guess_above >= 0.5):\n",
    "        correct += 1\n",
    "    if (above == False and guess_above < 0.5):\n",
    "        correct += 1\n",
    "\n",
    "print(correct)"
   ]
  },
  {
   "cell_type": "markdown",
   "metadata": {},
   "source": [
    "Add bias to the node in order to handle lines that do not go through the origin."
   ]
  },
  {
   "cell_type": "code",
   "execution_count": 4,
   "metadata": {},
   "outputs": [],
   "source": [
    "def line(x):\n",
    "    return 0.5 * x + 100"
   ]
  },
  {
   "cell_type": "code",
   "execution_count": 83,
   "metadata": {},
   "outputs": [
    {
     "name": "stdout",
     "output_type": "stream",
     "text": [
      "[-0.6539359462642047, 0.3223389234499692, -0.9107349737727213]\n"
     ]
    }
   ],
   "source": [
    "p = Perceptron(3)\n",
    "weights = p.get_weights()"
   ]
  },
  {
   "cell_type": "code",
   "execution_count": 84,
   "metadata": {},
   "outputs": [
    {
     "name": "stdout",
     "output_type": "stream",
     "text": [
      "[-140.40179768225235, 281.15690280822787, -0.8807349737727213]\n"
     ]
    },
    {
     "data": {
      "text/plain": [
       "[-140.40179768225235, 281.15690280822787, -0.8807349737727213]"
      ]
     },
     "execution_count": 84,
     "metadata": {},
     "output_type": "execute_result"
    }
   ],
   "source": [
    "# train the Perceptron using a bias term\n",
    "for _ in range(0, 1000000):\n",
    "    x_coord = random.random() * 1000\n",
    "    y_coord = random.random() * 1000\n",
    "    line_y = line(x_coord)\n",
    "    \n",
    "    if y_coord > line_y:\n",
    "        answer = 1\n",
    "    else:\n",
    "        answer = 0\n",
    "    \n",
    "    guess = p.feed_forward([x_coord, y_coord, 1])\n",
    "    p.backward_pass(guess - answer)\n",
    "    \n",
    "p.get_weights()"
   ]
  },
  {
   "cell_type": "code",
   "execution_count": 85,
   "metadata": {},
   "outputs": [
    {
     "name": "stdout",
     "output_type": "stream",
     "text": [
      "999\n"
     ]
    }
   ],
   "source": [
    "# determine the accuracy\n",
    "correct = 0\n",
    "\n",
    "for _ in range(0,1000):\n",
    "    x_coord = random.random() * 1000\n",
    "    y_coord = random.random() * 1000\n",
    "    line_y = line(x_coord)\n",
    "    \n",
    "    above = y_coord > line_y\n",
    "    guess_above = p.feed_forward([x_coord, y_coord, 1])\n",
    "    \n",
    "    if (above == True and guess_above >= 0.5):\n",
    "        correct += 1\n",
    "    if (above == False and guess_above < 0.5):\n",
    "        correct += 1\n",
    "\n",
    "print(correct)"
   ]
  },
  {
   "cell_type": "markdown",
   "metadata": {},
   "source": [
    "**Perceptrons for Logic**\n",
    "\n",
    "Implement logicial AND and OR"
   ]
  },
  {
   "cell_type": "code",
   "execution_count": 218,
   "metadata": {},
   "outputs": [
    {
     "name": "stdout",
     "output_type": "stream",
     "text": [
      "[0.038518347812716014, 0.6911857076159746, -0.10595426553480292]\n",
      "[0.2220752096841767, -0.18772657089782818, 0.765483827757995]\n"
     ]
    }
   ],
   "source": [
    "a = Perceptron(3, act='step') # logical AND\n",
    "b = Perceptron(3, act='step') # logical OR"
   ]
  },
  {
   "cell_type": "code",
   "execution_count": 219,
   "metadata": {},
   "outputs": [
    {
     "name": "stdout",
     "output_type": "stream",
     "text": [
      "[0.038518347812716014, 0.3911857076159744, -0.4059542655348031]\n",
      "[0.2220752096841767, 0.012273429102171851, -0.004516172242005597]\n"
     ]
    }
   ],
   "source": [
    "# Train the 'a' Perceptron for logical AND\n",
    "for _ in range(0,1000000):\n",
    "    first = random.choice([0, 1])\n",
    "    second = random.choice([0, 1])\n",
    "#     print(first, second, first and second)\n",
    "    a_out = a.feed_forward([first, second, 1])\n",
    "    if (first and second):\n",
    "        answer = 1\n",
    "    else:\n",
    "        answer = 0\n",
    "    a.backward_pass(a_out - answer)\n",
    "    \n",
    "print(a.get_weights())\n",
    "\n",
    "# Train the 'b' Perceptron for logical OR\n",
    "for _ in range(0,1000000):\n",
    "    first = random.choice([0, 1])\n",
    "    second = random.choice([0, 1])\n",
    "#     print(first, second, first and second)\n",
    "    b_out = b.feed_forward([first, second, 1])\n",
    "    if (first or second):\n",
    "        answer = 1\n",
    "    else:\n",
    "        answer = 0\n",
    "    b.backward_pass(b_out - answer)\n",
    "    \n",
    "print(b.get_weights())"
   ]
  },
  {
   "cell_type": "code",
   "execution_count": 220,
   "metadata": {
    "scrolled": true
   },
   "outputs": [
    {
     "name": "stdout",
     "output_type": "stream",
     "text": [
      "Logical AND\n",
      "1\n",
      "0\n",
      "0\n",
      "0\n",
      "\n",
      "Logical OR\n",
      "1\n",
      "1\n",
      "1\n",
      "0\n"
     ]
    }
   ],
   "source": [
    "print(\"Logical AND\")\n",
    "print(a.feed_forward([1, 1, 1]))\n",
    "print(a.feed_forward([1, 0, 1]))\n",
    "print(a.feed_forward([0, 1, 1]))\n",
    "print(a.feed_forward([0, 0, 1]))\n",
    "print(\"\\nLogical OR\")\n",
    "print(b.feed_forward([1, 1, 1]))\n",
    "print(b.feed_forward([1, 0, 1]))\n",
    "print(b.feed_forward([0, 1, 1]))\n",
    "print(b.feed_forward([0, 0, 1]))"
   ]
  },
  {
   "cell_type": "markdown",
   "metadata": {},
   "source": [
    "**XOR with 2 Perceptrons**"
   ]
  },
  {
   "cell_type": "code",
   "execution_count": 136,
   "metadata": {},
   "outputs": [
    {
     "name": "stdout",
     "output_type": "stream",
     "text": [
      "[0.8988586797569746, -0.13590476509619154, 0.46911879534340906]\n",
      "[-0.6060649979570265, -0.6788434420222427, 0.8627717347303085, 0.5938530214547715]\n"
     ]
    }
   ],
   "source": [
    "a = Perceptron(3)\n",
    "b = Perceptron(4)"
   ]
  },
  {
   "cell_type": "code",
   "execution_count": 137,
   "metadata": {},
   "outputs": [],
   "source": [
    "def network(first, second):\n",
    "    a_out = a.feed_forward([first, second, 1])\n",
    "    b_out = b.feed_forward([first, a_out, second, 1])\n",
    "    return b_out"
   ]
  },
  {
   "cell_type": "code",
   "execution_count": 138,
   "metadata": {},
   "outputs": [
    {
     "name": "stdout",
     "output_type": "stream",
     "text": [
      "[8.276476689803884, -7.473667151086369, 3.815978113044765]\n",
      "[6.273814226610519, -12.756245291974228, -5.9167224170567385, 9.323145785008206]\n"
     ]
    }
   ],
   "source": [
    "for _ in range(0,1000000):\n",
    "    first = random.choice([0, 1])\n",
    "    second = random.choice([0, 1])\n",
    "    \n",
    "    a_out = a.feed_forward([first, second, 1])\n",
    "    b_out = b.feed_forward([first, a_out, second, 1])\n",
    "    \n",
    "    if (first != second):\n",
    "        answer = 1\n",
    "    else:\n",
    "        answer = 0\n",
    "        \n",
    "    back_error = b.backward_pass(b_out - answer)\n",
    "    a.backward_pass(back_error[1])\n",
    "    \n",
    "print(a.get_weights())\n",
    "print(b.get_weights())"
   ]
  },
  {
   "cell_type": "code",
   "execution_count": 139,
   "metadata": {},
   "outputs": [
    {
     "name": "stdout",
     "output_type": "stream",
     "text": [
      "0.049670\n",
      "0.944840\n",
      "0.956298\n",
      "0.040765\n"
     ]
    }
   ],
   "source": [
    "print('%f' % network(1, 1))\n",
    "print('%f' % network(1, 0))\n",
    "print('%f' % network(0, 1))\n",
    "print('%f' % network(0, 0))"
   ]
  },
  {
   "cell_type": "markdown",
   "metadata": {},
   "source": [
    "**XOR Network with 3 Perceptrons**"
   ]
  },
  {
   "cell_type": "code",
   "execution_count": 145,
   "metadata": {},
   "outputs": [
    {
     "name": "stdout",
     "output_type": "stream",
     "text": [
      "[0.5134863058498789, -0.05206475037782021, -0.4124302451197219]\n",
      "[0.2515330576615058, -0.05293676830790184, -0.9138025216811596]\n",
      "[-0.7256076477312332, -0.05931151418978131, -0.11221658078767072]\n"
     ]
    }
   ],
   "source": [
    "a = Perceptron(3)\n",
    "b = Perceptron(3)\n",
    "c = Perceptron(3)"
   ]
  },
  {
   "cell_type": "code",
   "execution_count": 146,
   "metadata": {},
   "outputs": [],
   "source": [
    "def network(first, second):\n",
    "    a_out = a.feed_forward([first, second, 1])\n",
    "    b_out = b.feed_forward([first, second, 1])\n",
    "    c_out = c.feed_forward([a_out, b_out, 1])\n",
    "    return c_out"
   ]
  },
  {
   "cell_type": "code",
   "execution_count": 147,
   "metadata": {},
   "outputs": [
    {
     "name": "stdout",
     "output_type": "stream",
     "text": [
      "[5.5125182918336, -5.251054497177363, 2.610426424601591]\n",
      "[5.849633684268684, -5.82832150693468, -3.24842384281161]\n",
      "[-8.187719783749245, 8.451382211452637, 3.8563290534347705]\n"
     ]
    }
   ],
   "source": [
    "for _ in range(0,1000000):\n",
    "    first = random.choice([0, 1])\n",
    "    second = random.choice([0, 1])\n",
    "    \n",
    "    a_out = a.feed_forward([first, second, 1])\n",
    "    b_out = b.feed_forward([first, second, 1])\n",
    "    c_out = c.feed_forward([a_out, b_out, 1])\n",
    "    \n",
    "    if (first != second):\n",
    "        answer = 1\n",
    "    else:\n",
    "        answer = 0\n",
    "        \n",
    "    back_error = c.backward_pass(c_out - answer)\n",
    "    a.backward_pass(back_error[0])\n",
    "    b.backward_pass(back_error[1])\n",
    "    \n",
    "print(a.get_weights())\n",
    "print(b.get_weights())\n",
    "print(c.get_weights())"
   ]
  },
  {
   "cell_type": "code",
   "execution_count": 148,
   "metadata": {},
   "outputs": [
    {
     "name": "stdout",
     "output_type": "stream",
     "text": [
      "0.027375\n",
      "0.971771\n",
      "0.964847\n",
      "0.030625\n"
     ]
    }
   ],
   "source": [
    "print('%f' % network(1, 1))\n",
    "print('%f' % network(1, 0))\n",
    "print('%f' % network(0, 1))\n",
    "print('%f' % network(0, 0))"
   ]
  },
  {
   "cell_type": "code",
   "execution_count": 149,
   "metadata": {},
   "outputs": [
    {
     "name": "stdout",
     "output_type": "stream",
     "text": [
      "0.946439\n",
      "0.999703\n",
      "0.066569\n",
      "0.931530\n",
      "\n",
      "\n",
      "0.038158\n",
      "0.930939\n",
      "0.000114\n",
      "0.037384\n",
      "\n",
      "\n",
      "0.984015\n",
      "0.012979\n",
      "0.999995\n",
      "0.979292\n"
     ]
    }
   ],
   "source": [
    "print('%f' % a.feed_forward([1, 1, 1]))\n",
    "print('%f' % a.feed_forward([1, 0, 1]))\n",
    "print('%f' % a.feed_forward([0, 1, 1]))\n",
    "print('%f' % a.feed_forward([0, 0, 1]))\n",
    "print(\"\\n\")\n",
    "print('%f' % b.feed_forward([1, 1, 1]))\n",
    "print('%f' % b.feed_forward([1, 0, 1]))\n",
    "print('%f' % b.feed_forward([0, 1, 1]))\n",
    "print('%f' % b.feed_forward([0, 0, 1]))\n",
    "print(\"\\n\")\n",
    "print('%f' % c.feed_forward([1, 1, 1]))\n",
    "print('%f' % c.feed_forward([1, 0, 1]))\n",
    "print('%f' % c.feed_forward([0, 1, 1]))\n",
    "print('%f' % c.feed_forward([0, 0, 1]))"
   ]
  },
  {
   "cell_type": "markdown",
   "metadata": {},
   "source": [
    "**Parabola**\n",
    "\n",
    "Utilizing non-lenear activation"
   ]
  },
  {
   "cell_type": "code",
   "execution_count": 150,
   "metadata": {},
   "outputs": [],
   "source": [
    "def parabola(x):\n",
    "    return 0.005 * pow(x - 500, 2) + 250"
   ]
  },
  {
   "cell_type": "code",
   "execution_count": 210,
   "metadata": {},
   "outputs": [
    {
     "name": "stdout",
     "output_type": "stream",
     "text": [
      "[-0.15499689781106518, 0.2272443826066548, 0.4216641146819553]\n",
      "[0.7340591592212253, 0.6116375015720088, 0.5361495461216452]\n",
      "[-0.9885759854543825, 0.4832936822788094, -0.2977654632988376]\n"
     ]
    }
   ],
   "source": [
    "a = Perceptron(3, act='step')\n",
    "b = Perceptron(3, act='step')\n",
    "c = Perceptron(3, act='step')\n",
    "# a = Perceptron(3)\n",
    "# b = Perceptron(3)\n",
    "# c = Perceptron(3)"
   ]
  },
  {
   "cell_type": "code",
   "execution_count": 216,
   "metadata": {},
   "outputs": [
    {
     "name": "stdout",
     "output_type": "stream",
     "text": [
      "[-14.796762807734593, 414.31719183198544, -61.63191027470704]\n",
      "[-0.23111027410754464, -18.731829386152757, 0.3040904396026934]\n",
      "[-0.33857598545438194, 0.013293682278809138, 0.3522345367011627]\n"
     ]
    }
   ],
   "source": [
    "for _ in range(0,1000000):\n",
    "    x_coord = random.random() * 1000\n",
    "    y_coord = random.random() * 1000\n",
    "    curve_y = parabola(x_coord)\n",
    "    x_norm = x_coord / 1000\n",
    "    y_norm = y_coord / 1000\n",
    "        \n",
    "    a_out = a.feed_forward([x_norm, y_norm, 1])\n",
    "    b_out = b.feed_forward([x_norm, y_norm, 1])\n",
    "    c_out = c.feed_forward([a_out, b_out, 1])\n",
    "    \n",
    "    if curve_y > y_coord:\n",
    "        answer = 1\n",
    "    else:\n",
    "        answer = 0\n",
    "\n",
    "    back_error = c.backward_pass(c_out - answer)\n",
    "    a.backward_pass(back_error[0])\n",
    "    b.backward_pass(back_error[1])\n",
    "    \n",
    "print(a.get_weights())\n",
    "print(b.get_weights())\n",
    "print(c.get_weights())"
   ]
  },
  {
   "cell_type": "code",
   "execution_count": 217,
   "metadata": {},
   "outputs": [
    {
     "name": "stdout",
     "output_type": "stream",
     "text": [
      "602\n"
     ]
    }
   ],
   "source": [
    "# determine the accuracy\n",
    "correct = 0\n",
    "\n",
    "for _ in range(0,1000):\n",
    "    x_coord = random.random() * 1000\n",
    "    y_coord = random.random() * 1000\n",
    "    curve_y = parabola(x_coord)\n",
    "    x_norm = x_coord / 1000\n",
    "    y_norm = y_coord / 1000\n",
    "    \n",
    "    above = curve_y > y_coord\n",
    "    guess_above = network(x_norm, y_norm)\n",
    "    \n",
    "    if (above == True and guess_above >= 0.5):\n",
    "        correct += 1\n",
    "    if (above == False and guess_above < 0.5):\n",
    "        correct += 1\n",
    "\n",
    "print(correct)"
   ]
  },
  {
   "cell_type": "code",
   "execution_count": null,
   "metadata": {},
   "outputs": [],
   "source": []
  }
 ],
 "metadata": {
  "kernelspec": {
   "display_name": "Python 3",
   "language": "python",
   "name": "python3"
  },
  "language_info": {
   "codemirror_mode": {
    "name": "ipython",
    "version": 3
   },
   "file_extension": ".py",
   "mimetype": "text/x-python",
   "name": "python",
   "nbconvert_exporter": "python",
   "pygments_lexer": "ipython3",
   "version": "3.6.4"
  }
 },
 "nbformat": 4,
 "nbformat_minor": 2
}
