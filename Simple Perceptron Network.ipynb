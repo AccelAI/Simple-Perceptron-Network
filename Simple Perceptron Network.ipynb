{
 "cells": [
  {
   "cell_type": "code",
   "execution_count": 91,
   "metadata": {},
   "outputs": [],
   "source": [
    "import random\n",
    "import numpy as np"
   ]
  },
  {
   "cell_type": "code",
   "execution_count": 2,
   "metadata": {},
   "outputs": [],
   "source": [
    "# Hyperparameters\n",
    "learning_rate = 0.01"
   ]
  },
  {
   "cell_type": "code",
   "execution_count": 198,
   "metadata": {},
   "outputs": [],
   "source": [
    "class Perceptron:\n",
    "    \n",
    "    def __init__(self, num_inputs):        \n",
    "        self.weights = []\n",
    "        for x in range(0, num_inputs):\n",
    "            self.weights.append(random.random() * 2 - 1)\n",
    "            \n",
    "    def print_weights(self):\n",
    "        print(self.weights)\n",
    "        return self.weights\n",
    "        \n",
    "    def feed_forward(self, inputs):\n",
    "        self.inputs = inputs\n",
    "        sum = 0\n",
    "        \n",
    "        # multiply inputs by weights and sum them\n",
    "        for i in range(0, len(self.weights)):\n",
    "            sum += self.weights[i] * inputs[i]\n",
    "            \n",
    "        # 'activate' the sum and get the derivative\n",
    "        self.output, self.output_prime = self.activate(sum)\n",
    "        return self.output\n",
    "    \n",
    "    def activate(self, x):\n",
    "        activation = self.sigmoid(x)\n",
    "        activation_prime = activation * (1 - activation)\n",
    "        return activation, activation_prime\n",
    "    \n",
    "    def sigmoid(self, x):\n",
    "        return 1/(1 + np.exp(-x))\n",
    "    \n",
    "#     def step(self, x):\n",
    "#         if value > 0:\n",
    "#             return 1\n",
    "#         return -1\n",
    "    \n",
    "    def backward_pass(self, error):\n",
    "#         error = (self.output - desired_output) * self.output_prime # node delta\n",
    "        back_error = []\n",
    "        for i in range(0, len(self.weights)):\n",
    "            back_error.append(error * self.output_prime * self.weights[i])\n",
    "            self.weights[i] -= error * self.output_prime * self.inputs[i] * learning_rate\n",
    "        return back_error"
   ]
  },
  {
   "cell_type": "markdown",
   "metadata": {},
   "source": [
    "**XOR with 2 Perceptrons**"
   ]
  },
  {
   "cell_type": "code",
   "execution_count": 224,
   "metadata": {},
   "outputs": [],
   "source": [
    "a = Perceptron(3)\n",
    "b = Perceptron(4)"
   ]
  },
  {
   "cell_type": "code",
   "execution_count": 225,
   "metadata": {},
   "outputs": [],
   "source": [
    "def network(first, second):\n",
    "    a_out = a.feed_forward([first, second, 1])\n",
    "    b_out = b.feed_forward([first, a_out, second, 1])\n",
    "    return b_out"
   ]
  },
  {
   "cell_type": "code",
   "execution_count": 226,
   "metadata": {},
   "outputs": [],
   "source": [
    "for _ in range(0,1000000):\n",
    "    first = random.choice([0, 1])\n",
    "    second = random.choice([0, 1])\n",
    "    \n",
    "    a_out = a.feed_forward([first, second, 1])\n",
    "    b_out = b.feed_forward([first, a_out, second, 1])\n",
    "    \n",
    "    if (first != second):\n",
    "        answer = 1\n",
    "    else:\n",
    "        answer = 0\n",
    "        \n",
    "    back_error = b.backward_pass(b_out - answer)\n",
    "    a.backward_pass(back_error[1])"
   ]
  },
  {
   "cell_type": "code",
   "execution_count": 227,
   "metadata": {},
   "outputs": [
    {
     "name": "stdout",
     "output_type": "stream",
     "text": [
      "[-7.577563891147553, 7.293991505334126, -4.0762285773353195]\n",
      "[6.3041391100878, 13.49891915226821, -6.323197050246794, -3.301013235450665]\n"
     ]
    },
    {
     "data": {
      "text/plain": [
       "[6.3041391100878, 13.49891915226821, -6.323197050246794, -3.301013235450665]"
      ]
     },
     "execution_count": 227,
     "metadata": {},
     "output_type": "execute_result"
    }
   ],
   "source": [
    "a.print_weights()\n",
    "b.print_weights()"
   ]
  },
  {
   "cell_type": "code",
   "execution_count": 228,
   "metadata": {},
   "outputs": [
    {
     "name": "stdout",
     "output_type": "stream",
     "text": [
      "0.04110232546057299\n",
      "0.9527204255579509\n",
      "0.9662670063665105\n",
      "0.04411905890944845\n"
     ]
    }
   ],
   "source": [
    "print(network(1, 1))\n",
    "print(network(1, 0))\n",
    "print(network(0, 1))\n",
    "print(network(0, 0))"
   ]
  },
  {
   "cell_type": "markdown",
   "metadata": {},
   "source": [
    "**Single Perceptron to classify a point**"
   ]
  },
  {
   "cell_type": "code",
   "execution_count": 121,
   "metadata": {},
   "outputs": [],
   "source": [
    "def line(x):\n",
    "    return 0.5 * x + 100"
   ]
  },
  {
   "cell_type": "code",
   "execution_count": 150,
   "metadata": {},
   "outputs": [
    {
     "name": "stdout",
     "output_type": "stream",
     "text": [
      "[-0.06702815010316776, 0.6880354167837839, -0.44752058424969077]\n"
     ]
    },
    {
     "data": {
      "text/plain": [
       "0.17348668243092535"
      ]
     },
     "execution_count": 150,
     "metadata": {},
     "output_type": "execute_result"
    }
   ],
   "source": [
    "p = Perceptron(3)\n",
    "weights = p.print_weights()\n",
    "sum(weights)"
   ]
  },
  {
   "cell_type": "code",
   "execution_count": 152,
   "metadata": {},
   "outputs": [
    {
     "name": "stdout",
     "output_type": "stream",
     "text": [
      "-285.8924944037131 -145.94805847729577\n",
      "-285.8924944037131 -42.94624720185655\n",
      "0\n"
     ]
    }
   ],
   "source": [
    "x_coord = random.random() * 1000 - 500\n",
    "y_coord = random.random() * 1000 - 500\n",
    "line_y = line(x_coord)\n",
    "\n",
    "print(x_coord, y_coord)\n",
    "print(x_coord, line_y)\n",
    "\n",
    "if y_coord > line_y:\n",
    "    answer = 1\n",
    "else:\n",
    "    answer = 0\n",
    "print(answer)"
   ]
  },
  {
   "cell_type": "code",
   "execution_count": 153,
   "metadata": {},
   "outputs": [
    {
     "name": "stdout",
     "output_type": "stream",
     "text": [
      "[-0.06702815010316776, 0.6880354167837839, -0.44752058424969077]\n"
     ]
    },
    {
     "data": {
      "text/plain": [
       "[-0.06702815010316776, 0.6880354167837839, -0.44752058424969077]"
      ]
     },
     "execution_count": 153,
     "metadata": {},
     "output_type": "execute_result"
    }
   ],
   "source": [
    "p.feed_forward([x_coord, y_coord, 1])\n",
    "p.backward_pass(answer)\n",
    "p.print_weights()"
   ]
  },
  {
   "cell_type": "code",
   "execution_count": 159,
   "metadata": {},
   "outputs": [
    {
     "name": "stderr",
     "output_type": "stream",
     "text": [
      "C:\\Users\\mcram\\Anaconda3\\lib\\site-packages\\ipykernel_launcher.py:30: RuntimeWarning: overflow encountered in exp\n"
     ]
    }
   ],
   "source": [
    "for _ in range(0, 10000000):\n",
    "    x_coord = random.random() * 1000 - 500\n",
    "    y_coord = random.random() * 1000 - 500\n",
    "    line_y = line(x_coord)\n",
    "    \n",
    "    if y_coord > line_y:\n",
    "        answer = 1\n",
    "    else:\n",
    "        answer = 0\n",
    "    \n",
    "    p.feed_forward([x_coord, y_coord, 1])\n",
    "    p.backward_pass(answer)"
   ]
  },
  {
   "cell_type": "code",
   "execution_count": 160,
   "metadata": {},
   "outputs": [
    {
     "name": "stdout",
     "output_type": "stream",
     "text": [
      "[-14.28525076509905, 20.396344553251588, -6.773776184779178]\n"
     ]
    },
    {
     "data": {
      "text/plain": [
       "[-14.28525076509905, 20.396344553251588, -6.773776184779178]"
      ]
     },
     "execution_count": 160,
     "metadata": {},
     "output_type": "execute_result"
    }
   ],
   "source": [
    "p.print_weights()"
   ]
  },
  {
   "cell_type": "code",
   "execution_count": 161,
   "metadata": {},
   "outputs": [
    {
     "name": "stdout",
     "output_type": "stream",
     "text": [
      "903\n"
     ]
    },
    {
     "name": "stderr",
     "output_type": "stream",
     "text": [
      "C:\\Users\\mcram\\Anaconda3\\lib\\site-packages\\ipykernel_launcher.py:30: RuntimeWarning: overflow encountered in exp\n"
     ]
    }
   ],
   "source": [
    "correct = 0\n",
    "\n",
    "for _ in range(0,1000):\n",
    "    x_coord = random.random() * 1000 - 500\n",
    "    y_coord = random.random() * 1000 - 500\n",
    "    line_y = line(x_coord)\n",
    "    \n",
    "    above = y_coord > line_y\n",
    "    guess_above = p.feed_forward([x_coord, y_coord, 1])\n",
    "    \n",
    "#     print(above, guess_above)\n",
    "    \n",
    "    if (above == True and guess_above >= 0.5):\n",
    "        correct += 1\n",
    "    if (above == False and guess_above < 0.5):\n",
    "        correct += 1\n",
    "\n",
    "print(correct)"
   ]
  },
  {
   "cell_type": "markdown",
   "metadata": {},
   "source": [
    "**Perceptrons for Logic**\n",
    "\n",
    "Implement logicial AND and OR"
   ]
  },
  {
   "cell_type": "code",
   "execution_count": 209,
   "metadata": {},
   "outputs": [],
   "source": [
    "a = Perceptron(3)\n",
    "b = Perceptron(3)"
   ]
  },
  {
   "cell_type": "code",
   "execution_count": 210,
   "metadata": {},
   "outputs": [
    {
     "name": "stdout",
     "output_type": "stream",
     "text": [
      "[6.51993082352391, 6.517732124274059, -9.86543007171043]\n",
      "[7.196329477759033, 7.194772750256094, -3.3536807595067093]\n"
     ]
    },
    {
     "data": {
      "text/plain": [
       "[7.196329477759033, 7.194772750256094, -3.3536807595067093]"
      ]
     },
     "execution_count": 210,
     "metadata": {},
     "output_type": "execute_result"
    }
   ],
   "source": [
    "# Train the 'a' Perceptron for logical AND\n",
    "for _ in range(0,1000000):\n",
    "    first = random.choice([0, 1])\n",
    "    second = random.choice([0, 1])\n",
    "#     print(first, second, first and second)\n",
    "    a_out = a.feed_forward([first, second, 1])\n",
    "    if (first and second):\n",
    "        answer = 1\n",
    "    else:\n",
    "        answer = 0\n",
    "    a.backward_pass(a_out - answer)\n",
    "    \n",
    "a.print_weights()\n",
    "\n",
    "# Train the 'b' Perceptron for logical OR\n",
    "for _ in range(0,1000000):\n",
    "    first = random.choice([0, 1])\n",
    "    second = random.choice([0, 1])\n",
    "#     print(first, second, first and second)\n",
    "    b_out = b.feed_forward([first, second, 1])\n",
    "    if (first or second):\n",
    "        answer = 1\n",
    "    else:\n",
    "        answer = 0\n",
    "    b.backward_pass(b_out - answer)\n",
    "    \n",
    "b.print_weights()"
   ]
  },
  {
   "cell_type": "code",
   "execution_count": 211,
   "metadata": {
    "scrolled": true
   },
   "outputs": [
    {
     "name": "stdout",
     "output_type": "stream",
     "text": [
      "0.9597758758657289\n",
      "0.034042856630529236\n",
      "0.03397062876164709\n",
      "5.193684950973352e-05\n",
      "\n",
      "\n",
      "0.9999839120104754\n",
      "0.9790131437301939\n",
      "0.9789811347091291\n",
      "0.0337748395375263\n"
     ]
    }
   ],
   "source": [
    "print(a.feed_forward([1, 1, 1]))\n",
    "print(a.feed_forward([1, 0, 1]))\n",
    "print(a.feed_forward([0, 1, 1]))\n",
    "print(a.feed_forward([0, 0, 1]))\n",
    "print(\"\\n\")\n",
    "print(b.feed_forward([1, 1, 1]))\n",
    "print(b.feed_forward([1, 0, 1]))\n",
    "print(b.feed_forward([0, 1, 1]))\n",
    "print(b.feed_forward([0, 0, 1]))"
   ]
  },
  {
   "cell_type": "markdown",
   "metadata": {},
   "source": [
    "**XOR Network with 3 Perceptrons**"
   ]
  },
  {
   "cell_type": "code",
   "execution_count": 229,
   "metadata": {},
   "outputs": [],
   "source": [
    "a = Perceptron(3)\n",
    "b = Perceptron(3)\n",
    "c = Perceptron(3)"
   ]
  },
  {
   "cell_type": "code",
   "execution_count": 230,
   "metadata": {},
   "outputs": [],
   "source": [
    "def network(first, second):\n",
    "    a_out = a.feed_forward([first, second, 1])\n",
    "    b_out = b.feed_forward([first, second, 1])\n",
    "    c_out = c.feed_forward([a_out, b_out, 1])\n",
    "    return c_out"
   ]
  },
  {
   "cell_type": "code",
   "execution_count": 231,
   "metadata": {},
   "outputs": [],
   "source": [
    "for _ in range(0,1000000):\n",
    "    first = random.choice([0, 1])\n",
    "    second = random.choice([0, 1])\n",
    "    \n",
    "    a_out = a.feed_forward([first, second, 1])\n",
    "    b_out = b.feed_forward([first, second, 1])\n",
    "    c_out = c.feed_forward([a_out, b_out, 1])\n",
    "    \n",
    "    if (first != second):\n",
    "        answer = 1\n",
    "    else:\n",
    "        answer = 0\n",
    "        \n",
    "    back_error = c.backward_pass(c_out - answer)\n",
    "    a.backward_pass(back_error[0])\n",
    "    b.backward_pass(back_error[1])"
   ]
  },
  {
   "cell_type": "code",
   "execution_count": 232,
   "metadata": {},
   "outputs": [
    {
     "name": "stdout",
     "output_type": "stream",
     "text": [
      "[7.481361293370964, 7.4814004407556, -3.407833268843066]\n",
      "[-6.080525775937258, -6.079776992037227, 9.112729384172885]\n",
      "[10.250935811744139, 10.365321822337624, -15.254808888913807]\n"
     ]
    },
    {
     "data": {
      "text/plain": [
       "[10.250935811744139, 10.365321822337624, -15.254808888913807]"
      ]
     },
     "execution_count": 232,
     "metadata": {},
     "output_type": "execute_result"
    }
   ],
   "source": [
    "a.print_weights()\n",
    "b.print_weights()\n",
    "c.print_weights()"
   ]
  },
  {
   "cell_type": "code",
   "execution_count": 233,
   "metadata": {},
   "outputs": [
    {
     "name": "stdout",
     "output_type": "stream",
     "text": [
      "0.9999904114229049\n",
      "0.9832674959074102\n",
      "0.9832681399686438\n",
      "0.03205155058175033\n",
      "\n",
      "\n",
      "0.045322353120986945\n",
      "0.954007956974421\n",
      "0.9540408000304713\n",
      "0.99988975877421\n",
      "\n",
      "\n",
      "0.9953278310079074\n",
      "0.006667151621412368\n",
      "0.007469074565288629\n",
      "2.370940056820905e-07\n"
     ]
    }
   ],
   "source": [
    "print(a.feed_forward([1, 1, 1]))\n",
    "print(a.feed_forward([1, 0, 1]))\n",
    "print(a.feed_forward([0, 1, 1]))\n",
    "print(a.feed_forward([0, 0, 1]))\n",
    "print(\"\\n\")\n",
    "print(b.feed_forward([1, 1, 1]))\n",
    "print(b.feed_forward([1, 0, 1]))\n",
    "print(b.feed_forward([0, 1, 1]))\n",
    "print(b.feed_forward([0, 0, 1]))\n",
    "print(\"\\n\")\n",
    "print(c.feed_forward([1, 1, 1]))\n",
    "print(c.feed_forward([1, 0, 1]))\n",
    "print(c.feed_forward([0, 1, 1]))\n",
    "print(c.feed_forward([0, 0, 1]))"
   ]
  },
  {
   "cell_type": "code",
   "execution_count": 234,
   "metadata": {},
   "outputs": [
    {
     "name": "stdout",
     "output_type": "stream",
     "text": [
      "0.010621564378751308\n",
      "0.9911038664826521\n",
      "0.9911069257315724\n",
      "0.010332534727146535\n"
     ]
    }
   ],
   "source": [
    "print(network(1, 1))\n",
    "print(network(1, 0))\n",
    "print(network(0, 1))\n",
    "print(network(0, 0))"
   ]
  },
  {
   "cell_type": "code",
   "execution_count": null,
   "metadata": {},
   "outputs": [],
   "source": []
  }
 ],
 "metadata": {
  "kernelspec": {
   "display_name": "Python 3",
   "language": "python",
   "name": "python3"
  },
  "language_info": {
   "codemirror_mode": {
    "name": "ipython",
    "version": 3
   },
   "file_extension": ".py",
   "mimetype": "text/x-python",
   "name": "python",
   "nbconvert_exporter": "python",
   "pygments_lexer": "ipython3",
   "version": "3.6.4"
  }
 },
 "nbformat": 4,
 "nbformat_minor": 2
}
