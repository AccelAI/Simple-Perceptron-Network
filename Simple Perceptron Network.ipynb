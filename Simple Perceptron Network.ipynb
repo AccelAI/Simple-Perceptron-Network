{
 "cells": [
  {
   "cell_type": "code",
   "execution_count": 1,
   "metadata": {},
   "outputs": [],
   "source": [
    "import random\n",
    "import numpy as np"
   ]
  },
  {
   "cell_type": "markdown",
   "metadata": {},
   "source": [
    "**Perceptron Class**\n",
    "\n",
    "Here we create a class for the Perceptron that we may use to instatiate any number of Perceptron instances."
   ]
  },
  {
   "cell_type": "code",
   "execution_count": 2,
   "metadata": {},
   "outputs": [],
   "source": [
    "class Perceptron:\n",
    "    \n",
    "    def __init__(self, num_inputs, act='sigmoid'):\n",
    "        self.weights = []\n",
    "        self.num_inputs = num_inputs\n",
    "        self.act = act # define activation function with sigmoid being the default\n",
    "        for x in range(0, num_inputs):\n",
    "            self.weights.append(random.random() * 2 - 1)\n",
    "        print(self.weights)\n",
    "            \n",
    "    def get_weights(self):\n",
    "        return self.weights\n",
    "        \n",
    "    def feed_forward(self, inputs):\n",
    "        self.inputs = inputs\n",
    "        sum = 0\n",
    "        \n",
    "        # multiply inputs by weights and sum them\n",
    "        for i in range(0, self.num_inputs):\n",
    "            sum += self.weights[i] * inputs[i]\n",
    "            \n",
    "        # 'activate' the sum and get the derivative\n",
    "        self.output, self.output_prime = self.activate(sum)\n",
    "        return self.output\n",
    "    \n",
    "    def activate(self, x):\n",
    "        if (self.act == 'sigmoid'):\n",
    "            activation = self.sigmoid(x)\n",
    "            activation_prime = activation * (1 - activation)\n",
    "        else:\n",
    "            activation = self.step(x)\n",
    "            activation_prime = 1 # use 1 since step activation is not differentiable\n",
    "        return activation, activation_prime\n",
    "    \n",
    "    def sigmoid(self, x):\n",
    "        return 1/(1 + np.exp(-x))\n",
    "    \n",
    "    def step(self, x):\n",
    "        if x > 0:\n",
    "            return 1\n",
    "        return 0\n",
    "    \n",
    "    def backward_pass(self, error):\n",
    "        learning_rate = 0.01 # hyperparameter\n",
    "        back_error = [] # each element in list represent amount of error to send backward along that connection\n",
    "        for i in range(0, self.num_inputs):\n",
    "            back_error.append(error * self.output_prime * self.weights[i])\n",
    "            self.weights[i] -= error * self.output_prime * self.inputs[i] * learning_rate\n",
    "        return back_error"
   ]
  },
  {
   "cell_type": "markdown",
   "metadata": {},
   "source": [
    "**Single Perceptron to classify a point as being above or below a line**\n",
    "\n",
    "Begin with a line going through the origin."
   ]
  },
  {
   "cell_type": "code",
   "execution_count": 44,
   "metadata": {},
   "outputs": [],
   "source": [
    "def line(x):\n",
    "    return 0.5 * x"
   ]
  },
  {
   "cell_type": "code",
   "execution_count": 56,
   "metadata": {},
   "outputs": [
    {
     "name": "stdout",
     "output_type": "stream",
     "text": [
      "[-0.08058198345153089, 0.9651201836932843]\n",
      "0.8845382002417534\n"
     ]
    }
   ],
   "source": [
    "p = Perceptron(2, act='step')\n",
    "weights = p.get_weights()\n",
    "print(sum(weights))"
   ]
  },
  {
   "cell_type": "code",
   "execution_count": 79,
   "metadata": {},
   "outputs": [
    {
     "name": "stdout",
     "output_type": "stream",
     "text": [
      "901.9672274233975 255.103627952859\n",
      "901.9672274233975 450.98361371169875\n",
      "0\n"
     ]
    }
   ],
   "source": [
    "# pick 1 random point and determine if it's above or below the line\n",
    "x_coord = random.random() * 1000\n",
    "y_coord = random.random() * 1000\n",
    "line_y = line(x_coord)\n",
    "\n",
    "print(x_coord, y_coord)\n",
    "print(x_coord, line_y)\n",
    "\n",
    "if y_coord > line_y:\n",
    "    answer = 1\n",
    "else:\n",
    "    answer = 0\n",
    "    \n",
    "print(answer)"
   ]
  },
  {
   "cell_type": "code",
   "execution_count": 80,
   "metadata": {},
   "outputs": [
    {
     "name": "stdout",
     "output_type": "stream",
     "text": [
      "[-8.685332254545209, -2.38793593594849]\n"
     ]
    },
    {
     "data": {
      "text/plain": [
       "[-8.685332254545209, -2.38793593594849]"
      ]
     },
     "execution_count": 80,
     "metadata": {},
     "output_type": "execute_result"
    }
   ],
   "source": [
    "# pass the random point into the node, feed it back and see if the weights change\n",
    "guess = p.feed_forward([x_coord, y_coord])\n",
    "p.backward_pass(guess - answer)\n",
    "p.get_weights()"
   ]
  },
  {
   "cell_type": "code",
   "execution_count": 57,
   "metadata": {},
   "outputs": [
    {
     "data": {
      "text/plain": [
       "[-18.29384246820456, 36.81655593994777]"
      ]
     },
     "execution_count": 57,
     "metadata": {},
     "output_type": "execute_result"
    }
   ],
   "source": [
    "# train the network\n",
    "for _ in range(0, 1000):\n",
    "    x_coord = random.random() * 1000\n",
    "    y_coord = random.random() * 1000\n",
    "    line_y = line(x_coord)\n",
    "    \n",
    "    if y_coord > line_y:\n",
    "        answer = 1\n",
    "    else:\n",
    "        answer = 0\n",
    "    \n",
    "    guess = p.feed_forward([x_coord, y_coord])\n",
    "    p.backward_pass(guess - answer)\n",
    "    \n",
    "p.get_weights()"
   ]
  },
  {
   "cell_type": "code",
   "execution_count": 58,
   "metadata": {},
   "outputs": [
    {
     "name": "stdout",
     "output_type": "stream",
     "text": [
      "999\n"
     ]
    }
   ],
   "source": [
    "# check the accuracy\n",
    "correct = 0\n",
    "\n",
    "for _ in range(0,1000):\n",
    "    x_coord = random.random() * 1000\n",
    "    y_coord = random.random() * 1000\n",
    "    line_y = line(x_coord)\n",
    "    \n",
    "    is_above = y_coord > line_y\n",
    "    guess_above = p.feed_forward([x_coord, y_coord, 1])\n",
    "    \n",
    "    if (is_above == True and guess_above >= 0.5):\n",
    "        correct += 1\n",
    "    if (is_above == False and guess_above < 0.5):\n",
    "        correct += 1\n",
    "\n",
    "print(correct)"
   ]
  },
  {
   "cell_type": "markdown",
   "metadata": {},
   "source": [
    "Add bias to the node in order to handle lines that do not go through the origin."
   ]
  },
  {
   "cell_type": "code",
   "execution_count": 71,
   "metadata": {},
   "outputs": [],
   "source": [
    "def line(x):\n",
    "    return 0.5 * x + 500"
   ]
  },
  {
   "cell_type": "code",
   "execution_count": 78,
   "metadata": {},
   "outputs": [
    {
     "name": "stdout",
     "output_type": "stream",
     "text": [
      "[0.2214871748797087, 0.17398763304982867, -0.5255616218064509]\n"
     ]
    }
   ],
   "source": [
    "p = Perceptron(3, act='step')\n",
    "weights = p.get_weights()"
   ]
  },
  {
   "cell_type": "code",
   "execution_count": 79,
   "metadata": {},
   "outputs": [
    {
     "data": {
      "text/plain": [
       "[-15.181007899220747, 13.873452267396452, -65.51556162180306]"
      ]
     },
     "execution_count": 79,
     "metadata": {},
     "output_type": "execute_result"
    }
   ],
   "source": [
    "# train the Perceptron using a bias term\n",
    "for _ in range(0, 100000):\n",
    "    x_coord = random.random() * 1000\n",
    "    y_coord = random.random() * 1000\n",
    "    line_y = line(x_coord)\n",
    "    \n",
    "    if y_coord > line_y:\n",
    "        answer = 1\n",
    "    else:\n",
    "        answer = 0\n",
    "    \n",
    "    guess = p.feed_forward([x_coord, y_coord, 1])\n",
    "    p.backward_pass(guess - answer)\n",
    "    \n",
    "p.get_weights()"
   ]
  },
  {
   "cell_type": "code",
   "execution_count": 80,
   "metadata": {},
   "outputs": [
    {
     "name": "stdout",
     "output_type": "stream",
     "text": [
      "800\n"
     ]
    }
   ],
   "source": [
    "# determine the accuracy\n",
    "correct = 0\n",
    "\n",
    "for _ in range(0,1000):\n",
    "    x_coord = random.random() * 1000\n",
    "    y_coord = random.random() * 1000\n",
    "    line_y = line(x_coord)\n",
    "    \n",
    "    above = y_coord > line_y\n",
    "    guess_above = p.feed_forward([x_coord, y_coord, 1])\n",
    "    \n",
    "    if (above == True and guess_above >= 0.5):\n",
    "        correct += 1\n",
    "    if (above == False and guess_above < 0.5):\n",
    "        correct += 1\n",
    "\n",
    "print(correct)"
   ]
  },
  {
   "cell_type": "markdown",
   "metadata": {},
   "source": [
    "**Perceptrons for Logic**\n",
    "\n",
    "Implement logicial AND and OR"
   ]
  },
  {
   "cell_type": "code",
   "execution_count": 58,
   "metadata": {},
   "outputs": [
    {
     "name": "stdout",
     "output_type": "stream",
     "text": [
      "[0.1973171969546439, 0.9407410789339032, -0.8785536451209432]\n",
      "[0.8440494165572345, -0.7232351403105719, 0.1247101699302735]\n"
     ]
    }
   ],
   "source": [
    "a = Perceptron(3) # logical AND\n",
    "b = Perceptron(3) # logical OR"
   ]
  },
  {
   "cell_type": "code",
   "execution_count": 65,
   "metadata": {},
   "outputs": [
    {
     "name": "stdout",
     "output_type": "stream",
     "text": [
      "[5.153930989203262, 5.152757919753352, -7.824237161307208]\n",
      "[5.854616254553259, 5.851694138766977, -2.675989289602662]\n"
     ]
    }
   ],
   "source": [
    "# Train the 'a' Perceptron for logical AND\n",
    "for _ in range(0,100000):\n",
    "    first = random.choice([0, 1])\n",
    "    second = random.choice([0, 1])\n",
    "    a_out = a.feed_forward([first, second, 1])\n",
    "    \n",
    "    if (first and second):\n",
    "        answer = 1\n",
    "    else:\n",
    "        answer = 0\n",
    "    a.backward_pass(a_out - answer)\n",
    "    \n",
    "print(a.get_weights())\n",
    "\n",
    "# Train the 'b' Perceptron for logical OR\n",
    "for _ in range(0,100000):\n",
    "    first = random.choice([0, 1])\n",
    "    second = random.choice([0, 1])\n",
    "    b_out = b.feed_forward([first, second, 1])\n",
    "    \n",
    "    if (first or second):\n",
    "        answer = 1\n",
    "    else:\n",
    "        answer = 0\n",
    "    b.backward_pass(b_out - answer)\n",
    "    \n",
    "print(b.get_weights())"
   ]
  },
  {
   "cell_type": "code",
   "execution_count": 66,
   "metadata": {
    "scrolled": true
   },
   "outputs": [
    {
     "name": "stdout",
     "output_type": "stream",
     "text": [
      "Logical AND\n",
      "0.922902429355317\n",
      "0.06474842555742528\n",
      "0.06467742534473865\n",
      "0.00039976367222106004\n",
      "\n",
      "Logical OR\n",
      "0.9998802902889667\n",
      "0.9600220025673405\n",
      "0.9599097015938103\n",
      "0.06440512841264989\n"
     ]
    }
   ],
   "source": [
    "print(\"Logical AND\")\n",
    "print(a.feed_forward([1, 1, 1]))\n",
    "print(a.feed_forward([1, 0, 1]))\n",
    "print(a.feed_forward([0, 1, 1]))\n",
    "print(a.feed_forward([0, 0, 1]))\n",
    "print(\"\\nLogical OR\")\n",
    "print(b.feed_forward([1, 1, 1]))\n",
    "print(b.feed_forward([1, 0, 1]))\n",
    "print(b.feed_forward([0, 1, 1]))\n",
    "print(b.feed_forward([0, 0, 1]))"
   ]
  },
  {
   "cell_type": "markdown",
   "metadata": {},
   "source": [
    "**XOR with 2 Perceptrons**"
   ]
  },
  {
   "cell_type": "code",
   "execution_count": 21,
   "metadata": {},
   "outputs": [
    {
     "name": "stdout",
     "output_type": "stream",
     "text": [
      "[0.44233208077511255, 0.46563241559334, -0.9488606598636238]\n",
      "[0.09891392173295421, -0.943930983402608, 0.3970823323953001, 0.48435790289690983]\n"
     ]
    }
   ],
   "source": [
    "a = Perceptron(3, act='step')\n",
    "b = Perceptron(4, act='step')"
   ]
  },
  {
   "cell_type": "code",
   "execution_count": 22,
   "metadata": {},
   "outputs": [],
   "source": [
    "def network(first, second):\n",
    "    a_out = a.feed_forward([first, second, 1])\n",
    "    b_out = b.feed_forward([first, a_out, second, 1])\n",
    "    return b_out"
   ]
  },
  {
   "cell_type": "code",
   "execution_count": 24,
   "metadata": {},
   "outputs": [
    {
     "name": "stdout",
     "output_type": "stream",
     "text": [
      "[0.4517713906091386, 0.4750717254273661, -0.486334477996346]\n",
      "[0.08891392173295422, -0.943930983402608, 0.3870823323953001, -0.005642097103090453]\n"
     ]
    }
   ],
   "source": [
    "for _ in range(0,1000):\n",
    "    first = random.choice([0, 1])\n",
    "    second = random.choice([0, 1])\n",
    "    \n",
    "    a_out = a.feed_forward([first, second, 1])\n",
    "    b_out = b.feed_forward([first, a_out, second, 1])\n",
    "    \n",
    "    if (first != second):\n",
    "        answer = 1\n",
    "    else:\n",
    "        answer = 0\n",
    "        \n",
    "    back_error = b.backward_pass(b_out - answer)\n",
    "    a.backward_pass(back_error[1])\n",
    "    \n",
    "print(a.get_weights())\n",
    "print(b.get_weights())"
   ]
  },
  {
   "cell_type": "code",
   "execution_count": 26,
   "metadata": {},
   "outputs": [
    {
     "name": "stdout",
     "output_type": "stream",
     "text": [
      "0\n",
      "1\n",
      "1\n",
      "0\n"
     ]
    }
   ],
   "source": [
    "print(network(1, 1))\n",
    "print(network(1, 0))\n",
    "print(network(0, 1))\n",
    "print(network(0, 0))"
   ]
  },
  {
   "cell_type": "markdown",
   "metadata": {},
   "source": [
    "**XOR Network with 3 Perceptrons**"
   ]
  },
  {
   "cell_type": "code",
   "execution_count": 127,
   "metadata": {},
   "outputs": [
    {
     "name": "stdout",
     "output_type": "stream",
     "text": [
      "[-0.4174712053572198, -0.4898950878980841, -0.1779856508107156]\n",
      "[0.8072557493479546, 0.5407030478363373, 0.4910981953577074]\n",
      "[-0.7345969723665828, 0.03912538710677449, -0.3920147667766811]\n"
     ]
    }
   ],
   "source": [
    "a = Perceptron(3, act='step')\n",
    "b = Perceptron(3, act='step')\n",
    "c = Perceptron(3, act='step')"
   ]
  },
  {
   "cell_type": "code",
   "execution_count": 128,
   "metadata": {},
   "outputs": [],
   "source": [
    "def network(first, second):\n",
    "    a_out = a.feed_forward([first, second, 1])\n",
    "    b_out = b.feed_forward([first, second, 1])\n",
    "    c_out = c.feed_forward([a_out, b_out, 1])\n",
    "    return c_out"
   ]
  },
  {
   "cell_type": "code",
   "execution_count": 129,
   "metadata": {},
   "outputs": [
    {
     "name": "stdout",
     "output_type": "stream",
     "text": [
      "[0.00021443308871410462, 0.32926158170515585, -0.3294429544550295]\n",
      "[0.3542379474046992, 0.02896512201889478, -0.003002965607727576]\n",
      "[-0.1345969723665823, 0.2591253871067746, -0.16201476677668092]\n"
     ]
    }
   ],
   "source": [
    "# train the network\n",
    "for _ in range(0,1000000):\n",
    "    first = random.choice([0, 1])\n",
    "    second = random.choice([0, 1])\n",
    "    c_out = network(first, second)\n",
    "#     a_out = a.feed_forward([first, second, 1])\n",
    "#     b_out = b.feed_forward([first, second, 1])\n",
    "#     c_out = c.feed_forward([a_out, b_out, 1])\n",
    "    \n",
    "    if (first != second):\n",
    "        answer = 1\n",
    "    else:\n",
    "        answer = 0\n",
    "        \n",
    "    back_error = c.backward_pass(c_out - answer)\n",
    "    a.backward_pass(back_error[0])\n",
    "    b.backward_pass(back_error[1])\n",
    "    \n",
    "print(a.get_weights())\n",
    "print(b.get_weights())\n",
    "print(c.get_weights())"
   ]
  },
  {
   "cell_type": "code",
   "execution_count": 130,
   "metadata": {},
   "outputs": [
    {
     "name": "stdout",
     "output_type": "stream",
     "text": [
      "0\n",
      "1\n",
      "1\n",
      "0\n"
     ]
    }
   ],
   "source": [
    "print(network(1, 1))\n",
    "print(network(1, 0))\n",
    "print(network(0, 1))\n",
    "print(network(0, 0))"
   ]
  },
  {
   "cell_type": "code",
   "execution_count": 131,
   "metadata": {},
   "outputs": [
    {
     "name": "stdout",
     "output_type": "stream",
     "text": [
      "1.000000\n",
      "0.000000\n",
      "0.000000\n",
      "0.000000\n",
      "\n",
      "\n",
      "1.000000\n",
      "1.000000\n",
      "1.000000\n",
      "0.000000\n",
      "\n",
      "\n",
      "0.000000\n",
      "0.000000\n",
      "1.000000\n",
      "0.000000\n"
     ]
    }
   ],
   "source": [
    "print('%f' % a.feed_forward([1, 1, 1]))\n",
    "print('%f' % a.feed_forward([1, 0, 1]))\n",
    "print('%f' % a.feed_forward([0, 1, 1]))\n",
    "print('%f' % a.feed_forward([0, 0, 1]))\n",
    "print(\"\\n\")\n",
    "print('%f' % b.feed_forward([1, 1, 1]))\n",
    "print('%f' % b.feed_forward([1, 0, 1]))\n",
    "print('%f' % b.feed_forward([0, 1, 1]))\n",
    "print('%f' % b.feed_forward([0, 0, 1]))\n",
    "print(\"\\n\")\n",
    "print('%f' % c.feed_forward([1, 1, 1]))\n",
    "print('%f' % c.feed_forward([1, 0, 1]))\n",
    "print('%f' % c.feed_forward([0, 1, 1]))\n",
    "print('%f' % c.feed_forward([0, 0, 1]))"
   ]
  },
  {
   "cell_type": "markdown",
   "metadata": {},
   "source": [
    "**Parabola**\n",
    "\n",
    "Utilizing non-lenear activation"
   ]
  },
  {
   "cell_type": "code",
   "execution_count": 45,
   "metadata": {},
   "outputs": [],
   "source": [
    "def parabola(x):\n",
    "    return 0.005 * pow(x - 500, 2) + 250"
   ]
  },
  {
   "cell_type": "code",
   "execution_count": 89,
   "metadata": {},
   "outputs": [
    {
     "name": "stdout",
     "output_type": "stream",
     "text": [
      "[0.7303820868017199, 0.9273451623463689, -0.0167356293745915]\n",
      "[0.12043429991342602, 0.16784219372837983, -0.6964690184664923]\n",
      "[0.9663948928409787, 0.5738521501702445, -0.12094978694234193]\n"
     ]
    }
   ],
   "source": [
    "a = Perceptron(3, act='step')\n",
    "b = Perceptron(3, act='step')\n",
    "c = Perceptron(3, act='step')"
   ]
  },
  {
   "cell_type": "code",
   "execution_count": 90,
   "metadata": {},
   "outputs": [],
   "source": [
    "def network(first, second):\n",
    "    a_out = a.feed_forward([first, second, 1])\n",
    "    b_out = b.feed_forward([first, second, 1])\n",
    "    c_out = c.feed_forward([a_out, b_out, 1])\n",
    "    return c_out"
   ]
  },
  {
   "cell_type": "code",
   "execution_count": 97,
   "metadata": {},
   "outputs": [
    {
     "name": "stdout",
     "output_type": "stream",
     "text": [
      "[0.3184757921543099, -9.329268559242207, -0.5802042933052338]\n",
      "[-0.38272658651737856, -884.7666529993556, -0.6218682389443612]\n",
      "[0.006394892840977955, 0.5738521501702445, 0.009050213057658041]\n"
     ]
    }
   ],
   "source": [
    "for _ in range(0,1000000):\n",
    "    x_coord = random.random() * 1000\n",
    "    y_coord = random.random() * 1000\n",
    "    curve_y = parabola(x_coord)\n",
    "    x_norm = x_coord / 1000\n",
    "    y_norm = y_coord / 1000\n",
    "\n",
    "    c_out = network(x_norm, y_norm)\n",
    "    \n",
    "    if curve_y > y_coord:\n",
    "        answer = 1\n",
    "    else:\n",
    "        answer = 0\n",
    "\n",
    "    back_error = c.backward_pass(c_out - answer)\n",
    "    a.backward_pass(back_error[0])\n",
    "    b.backward_pass(back_error[1])\n",
    "    \n",
    "print(a.get_weights())\n",
    "print(b.get_weights())\n",
    "print(c.get_weights())"
   ]
  },
  {
   "cell_type": "code",
   "execution_count": 98,
   "metadata": {},
   "outputs": [
    {
     "name": "stdout",
     "output_type": "stream",
     "text": [
      "602\n"
     ]
    }
   ],
   "source": [
    "# determine the accuracy\n",
    "correct = 0\n",
    "\n",
    "for _ in range(0,1000):\n",
    "    x_coord = random.random() * 1000\n",
    "    y_coord = random.random() * 1000\n",
    "    curve_y = parabola(x_coord)\n",
    "    x_norm = x_coord / 1000\n",
    "    y_norm = y_coord / 1000\n",
    "    \n",
    "    is_above = curve_y > y_coord\n",
    "    guess_above = network(x_norm, y_norm)\n",
    "    \n",
    "    if (is_above == True and guess_above >= 0.5):\n",
    "        correct += 1\n",
    "    if (is_above == False and guess_above < 0.5):\n",
    "        correct += 1\n",
    "\n",
    "print(correct)"
   ]
  },
  {
   "cell_type": "code",
   "execution_count": 96,
   "metadata": {},
   "outputs": [
    {
     "name": "stdout",
     "output_type": "stream",
     "text": [
      "1.000000\n",
      "1.000000\n",
      "1.000000\n",
      "1.000000\n"
     ]
    }
   ],
   "source": [
    "print('%f' % c.feed_forward([1, 1, 1]))\n",
    "print('%f' % c.feed_forward([1, 0, 1]))\n",
    "print('%f' % c.feed_forward([0, 1, 1]))\n",
    "print('%f' % c.feed_forward([0, 0, 1]))"
   ]
  },
  {
   "cell_type": "code",
   "execution_count": null,
   "metadata": {},
   "outputs": [],
   "source": []
  }
 ],
 "metadata": {
  "kernelspec": {
   "display_name": "Python 3",
   "language": "python",
   "name": "python3"
  },
  "language_info": {
   "codemirror_mode": {
    "name": "ipython",
    "version": 3
   },
   "file_extension": ".py",
   "mimetype": "text/x-python",
   "name": "python",
   "nbconvert_exporter": "python",
   "pygments_lexer": "ipython3",
   "version": "3.6.4"
  }
 },
 "nbformat": 4,
 "nbformat_minor": 2
}
